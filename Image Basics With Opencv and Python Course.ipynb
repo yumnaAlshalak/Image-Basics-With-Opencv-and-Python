{
 "cells": [
  {
   "cell_type": "markdown",
   "id": "12e56022",
   "metadata": {},
   "source": [
    "### Import Libraries"
   ]
  },
  {
   "cell_type": "code",
   "execution_count": 1,
   "id": "107bf89f",
   "metadata": {},
   "outputs": [],
   "source": [
    "import numpy as np\n",
    "import matplotlib.pyplot as plt\n",
    "%matplotlib inline"
   ]
  },
  {
   "cell_type": "code",
   "execution_count": 2,
   "id": "7c823b81",
   "metadata": {},
   "outputs": [],
   "source": [
    "import cv2"
   ]
  },
  {
   "cell_type": "markdown",
   "id": "f0917d5e",
   "metadata": {},
   "source": [
    "## Draw Circle"
   ]
  },
  {
   "cell_type": "code",
   "execution_count": 3,
   "id": "e122509f",
   "metadata": {},
   "outputs": [],
   "source": [
    "def draw_circle(event, x, y, flags, param):\n",
    "    if event== cv2.EVENT_LBUTTONDOWN:\n",
    "        cv2.circle(img,(x,y),100,(75,131,251),-1)\n",
    "    elif event== cv2.EVENT_RBUTTONDOWN:\n",
    "        cv2.circle(img,(x,y),50,(251,75,131),-1)\n",
    "cv2.namedWindow(winname='my_drawing')\n",
    "cv2.setMouseCallback('my_drawing',draw_circle)\n",
    "img=np.zeros((512,512,3),\n",
    "            np.int8)\n",
    "while True:\n",
    "    cv2.imshow('my_drawing',img)\n",
    "    if cv2.waitKey(5) & 0xFF== ord('q'):\n",
    "        break\n",
    "cv2.destroyAllWindows()"
   ]
  },
  {
   "cell_type": "markdown",
   "id": "cd67ca5c",
   "metadata": {},
   "source": [
    "### Draw Rectangle "
   ]
  },
  {
   "cell_type": "code",
   "execution_count": 4,
   "id": "5811b2a1",
   "metadata": {},
   "outputs": [],
   "source": [
    "drawing=False\n",
    "ex=-1\n",
    "ey=-1\n",
    "def draw_rectangle(event,x,y,flags,params):\n",
    "    global ex, ey, drawing\n",
    "    if event== cv2.EVENT_LBUTTONDOWN:\n",
    "        drawing=True\n",
    "        ex,ey=x,y\n",
    "    elif event==cv2.EVENT_MOUSEMOVE:\n",
    "        if drawing==True:\n",
    "            cv2.rectangle(img,\n",
    "                      (ex,ey),\n",
    "                      (x,y),\n",
    "                      (255,0,255),\n",
    "                      -1\n",
    "                     )\n",
    "        \n",
    "    elif event==cv2.EVENT_LBUTTONUP:\n",
    "        drawing=False\n",
    "        cv2.rectangle(img,\n",
    "                      (ex,ey),\n",
    "                      (x,y),\n",
    "                      (255,0,255),\n",
    "                      -1\n",
    "                     )\n",
    "cv2.namedWindow(winname='my_drawing')\n",
    "cv2.setMouseCallback('my_drawing',draw_rectangle)\n",
    "img=np.zeros((512,512,3),\n",
    "            np.int8)\n",
    "while True:\n",
    "    cv2.imshow('my_drawing',img)\n",
    "    if cv2.waitKey(5) & 0xFF== ord('q'):\n",
    "        break\n",
    "cv2.destroyAllWindows()"
   ]
  },
  {
   "cell_type": "code",
   "execution_count": null,
   "id": "39235ed3",
   "metadata": {},
   "outputs": [],
   "source": []
  }
 ],
 "metadata": {
  "kernelspec": {
   "display_name": "Python 3 (ipykernel)",
   "language": "python",
   "name": "python3"
  },
  "language_info": {
   "codemirror_mode": {
    "name": "ipython",
    "version": 3
   },
   "file_extension": ".py",
   "mimetype": "text/x-python",
   "name": "python",
   "nbconvert_exporter": "python",
   "pygments_lexer": "ipython3",
   "version": "3.9.13"
  }
 },
 "nbformat": 4,
 "nbformat_minor": 5
}
